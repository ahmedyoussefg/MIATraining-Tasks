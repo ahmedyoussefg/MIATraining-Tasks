{
  "nbformat": 4,
  "nbformat_minor": 0,
  "metadata": {
    "colab": {
      "provenance": []
    },
    "kernelspec": {
      "name": "python3",
      "display_name": "Python 3"
    },
    "language_info": {
      "name": "python"
    }
  },
  "cells": [
    {
      "cell_type": "markdown",
      "source": [
        "# Name : Ahmed Youssef Sobhy El goerany\n",
        "\n",
        "### Reading dataset:"
      ],
      "metadata": {
        "id": "IV4W9MOC0c1g"
      }
    },
    {
      "cell_type": "code",
      "source": [
        "import pandas as pd\n",
        "import numpy as np\n",
        "\n",
        "df = pd.read_csv(\"/shrink_ray_dataset.csv\")\n",
        "df.head()"
      ],
      "metadata": {
        "colab": {
          "base_uri": "https://localhost:8080/",
          "height": 206
        },
        "id": "if3YWOGi0MSQ",
        "outputId": "dbe421c3-4343-4b94-ea6b-adf16630804f"
      },
      "execution_count": 9,
      "outputs": [
        {
          "output_type": "execute_result",
          "data": {
            "text/plain": [
              "   Power  Shrinkage\n",
              "0   0.00       0.00\n",
              "1   1.51       0.00\n",
              "2   3.02       0.00\n",
              "3   4.52       2.67\n",
              "4   6.03       0.00"
            ],
            "text/html": [
              "\n",
              "  <div id=\"df-9cca314d-ccde-415b-b19d-1f6c6e513ca2\" class=\"colab-df-container\">\n",
              "    <div>\n",
              "<style scoped>\n",
              "    .dataframe tbody tr th:only-of-type {\n",
              "        vertical-align: middle;\n",
              "    }\n",
              "\n",
              "    .dataframe tbody tr th {\n",
              "        vertical-align: top;\n",
              "    }\n",
              "\n",
              "    .dataframe thead th {\n",
              "        text-align: right;\n",
              "    }\n",
              "</style>\n",
              "<table border=\"1\" class=\"dataframe\">\n",
              "  <thead>\n",
              "    <tr style=\"text-align: right;\">\n",
              "      <th></th>\n",
              "      <th>Power</th>\n",
              "      <th>Shrinkage</th>\n",
              "    </tr>\n",
              "  </thead>\n",
              "  <tbody>\n",
              "    <tr>\n",
              "      <th>0</th>\n",
              "      <td>0.00</td>\n",
              "      <td>0.00</td>\n",
              "    </tr>\n",
              "    <tr>\n",
              "      <th>1</th>\n",
              "      <td>1.51</td>\n",
              "      <td>0.00</td>\n",
              "    </tr>\n",
              "    <tr>\n",
              "      <th>2</th>\n",
              "      <td>3.02</td>\n",
              "      <td>0.00</td>\n",
              "    </tr>\n",
              "    <tr>\n",
              "      <th>3</th>\n",
              "      <td>4.52</td>\n",
              "      <td>2.67</td>\n",
              "    </tr>\n",
              "    <tr>\n",
              "      <th>4</th>\n",
              "      <td>6.03</td>\n",
              "      <td>0.00</td>\n",
              "    </tr>\n",
              "  </tbody>\n",
              "</table>\n",
              "</div>\n",
              "    <div class=\"colab-df-buttons\">\n",
              "\n",
              "  <div class=\"colab-df-container\">\n",
              "    <button class=\"colab-df-convert\" onclick=\"convertToInteractive('df-9cca314d-ccde-415b-b19d-1f6c6e513ca2')\"\n",
              "            title=\"Convert this dataframe to an interactive table.\"\n",
              "            style=\"display:none;\">\n",
              "\n",
              "  <svg xmlns=\"http://www.w3.org/2000/svg\" height=\"24px\" viewBox=\"0 -960 960 960\">\n",
              "    <path d=\"M120-120v-720h720v720H120Zm60-500h600v-160H180v160Zm220 220h160v-160H400v160Zm0 220h160v-160H400v160ZM180-400h160v-160H180v160Zm440 0h160v-160H620v160ZM180-180h160v-160H180v160Zm440 0h160v-160H620v160Z\"/>\n",
              "  </svg>\n",
              "    </button>\n",
              "\n",
              "  <style>\n",
              "    .colab-df-container {\n",
              "      display:flex;\n",
              "      gap: 12px;\n",
              "    }\n",
              "\n",
              "    .colab-df-convert {\n",
              "      background-color: #E8F0FE;\n",
              "      border: none;\n",
              "      border-radius: 50%;\n",
              "      cursor: pointer;\n",
              "      display: none;\n",
              "      fill: #1967D2;\n",
              "      height: 32px;\n",
              "      padding: 0 0 0 0;\n",
              "      width: 32px;\n",
              "    }\n",
              "\n",
              "    .colab-df-convert:hover {\n",
              "      background-color: #E2EBFA;\n",
              "      box-shadow: 0px 1px 2px rgba(60, 64, 67, 0.3), 0px 1px 3px 1px rgba(60, 64, 67, 0.15);\n",
              "      fill: #174EA6;\n",
              "    }\n",
              "\n",
              "    .colab-df-buttons div {\n",
              "      margin-bottom: 4px;\n",
              "    }\n",
              "\n",
              "    [theme=dark] .colab-df-convert {\n",
              "      background-color: #3B4455;\n",
              "      fill: #D2E3FC;\n",
              "    }\n",
              "\n",
              "    [theme=dark] .colab-df-convert:hover {\n",
              "      background-color: #434B5C;\n",
              "      box-shadow: 0px 1px 3px 1px rgba(0, 0, 0, 0.15);\n",
              "      filter: drop-shadow(0px 1px 2px rgba(0, 0, 0, 0.3));\n",
              "      fill: #FFFFFF;\n",
              "    }\n",
              "  </style>\n",
              "\n",
              "    <script>\n",
              "      const buttonEl =\n",
              "        document.querySelector('#df-9cca314d-ccde-415b-b19d-1f6c6e513ca2 button.colab-df-convert');\n",
              "      buttonEl.style.display =\n",
              "        google.colab.kernel.accessAllowed ? 'block' : 'none';\n",
              "\n",
              "      async function convertToInteractive(key) {\n",
              "        const element = document.querySelector('#df-9cca314d-ccde-415b-b19d-1f6c6e513ca2');\n",
              "        const dataTable =\n",
              "          await google.colab.kernel.invokeFunction('convertToInteractive',\n",
              "                                                    [key], {});\n",
              "        if (!dataTable) return;\n",
              "\n",
              "        const docLinkHtml = 'Like what you see? Visit the ' +\n",
              "          '<a target=\"_blank\" href=https://colab.research.google.com/notebooks/data_table.ipynb>data table notebook</a>'\n",
              "          + ' to learn more about interactive tables.';\n",
              "        element.innerHTML = '';\n",
              "        dataTable['output_type'] = 'display_data';\n",
              "        await google.colab.output.renderOutput(dataTable, element);\n",
              "        const docLink = document.createElement('div');\n",
              "        docLink.innerHTML = docLinkHtml;\n",
              "        element.appendChild(docLink);\n",
              "      }\n",
              "    </script>\n",
              "  </div>\n",
              "\n",
              "\n",
              "<div id=\"df-0fec5bd5-8355-4c29-92c4-70092efe8ae3\">\n",
              "  <button class=\"colab-df-quickchart\" onclick=\"quickchart('df-0fec5bd5-8355-4c29-92c4-70092efe8ae3')\"\n",
              "            title=\"Suggest charts.\"\n",
              "            style=\"display:none;\">\n",
              "\n",
              "<svg xmlns=\"http://www.w3.org/2000/svg\" height=\"24px\"viewBox=\"0 0 24 24\"\n",
              "     width=\"24px\">\n",
              "    <g>\n",
              "        <path d=\"M19 3H5c-1.1 0-2 .9-2 2v14c0 1.1.9 2 2 2h14c1.1 0 2-.9 2-2V5c0-1.1-.9-2-2-2zM9 17H7v-7h2v7zm4 0h-2V7h2v10zm4 0h-2v-4h2v4z\"/>\n",
              "    </g>\n",
              "</svg>\n",
              "  </button>\n",
              "\n",
              "<style>\n",
              "  .colab-df-quickchart {\n",
              "    background-color: #E8F0FE;\n",
              "    border: none;\n",
              "    border-radius: 50%;\n",
              "    cursor: pointer;\n",
              "    display: none;\n",
              "    fill: #1967D2;\n",
              "    height: 32px;\n",
              "    padding: 0 0 0 0;\n",
              "    width: 32px;\n",
              "  }\n",
              "\n",
              "  .colab-df-quickchart:hover {\n",
              "    background-color: #E2EBFA;\n",
              "    box-shadow: 0px 1px 2px rgba(60, 64, 67, 0.3), 0px 1px 3px 1px rgba(60, 64, 67, 0.15);\n",
              "    fill: #174EA6;\n",
              "  }\n",
              "\n",
              "  [theme=dark] .colab-df-quickchart {\n",
              "    background-color: #3B4455;\n",
              "    fill: #D2E3FC;\n",
              "  }\n",
              "\n",
              "  [theme=dark] .colab-df-quickchart:hover {\n",
              "    background-color: #434B5C;\n",
              "    box-shadow: 0px 1px 3px 1px rgba(0, 0, 0, 0.15);\n",
              "    filter: drop-shadow(0px 1px 2px rgba(0, 0, 0, 0.3));\n",
              "    fill: #FFFFFF;\n",
              "  }\n",
              "</style>\n",
              "\n",
              "  <script>\n",
              "    async function quickchart(key) {\n",
              "      const charts = await google.colab.kernel.invokeFunction(\n",
              "          'suggestCharts', [key], {});\n",
              "    }\n",
              "    (() => {\n",
              "      let quickchartButtonEl =\n",
              "        document.querySelector('#df-0fec5bd5-8355-4c29-92c4-70092efe8ae3 button');\n",
              "      quickchartButtonEl.style.display =\n",
              "        google.colab.kernel.accessAllowed ? 'block' : 'none';\n",
              "    })();\n",
              "  </script>\n",
              "</div>\n",
              "    </div>\n",
              "  </div>\n"
            ]
          },
          "metadata": {},
          "execution_count": 9
        }
      ]
    },
    {
      "cell_type": "markdown",
      "source": [
        "### Splitting the *Data*"
      ],
      "metadata": {
        "id": "iA6rJsrP27zy"
      }
    },
    {
      "cell_type": "code",
      "source": [
        "X = df.iloc[:,0].values.reshape(-1, 1)\n",
        "y = df.iloc[:,1]\n",
        "X"
      ],
      "metadata": {
        "colab": {
          "base_uri": "https://localhost:8080/"
        },
        "id": "HIsTIyK_2UCr",
        "outputId": "43465925-f233-41bb-e9f4-34f6e25972e0"
      },
      "execution_count": 19,
      "outputs": [
        {
          "output_type": "execute_result",
          "data": {
            "text/plain": [
              "array([[  0.  ],\n",
              "       [  1.51],\n",
              "       [  3.02],\n",
              "       [  4.52],\n",
              "       [  6.03],\n",
              "       [  7.54],\n",
              "       [  9.05],\n",
              "       [ 10.55],\n",
              "       [ 12.06],\n",
              "       [ 13.57],\n",
              "       [ 15.08],\n",
              "       [ 16.58],\n",
              "       [ 18.09],\n",
              "       [ 19.6 ],\n",
              "       [ 21.11],\n",
              "       [ 22.61],\n",
              "       [ 24.12],\n",
              "       [ 25.63],\n",
              "       [ 27.14],\n",
              "       [ 28.64],\n",
              "       [ 30.15],\n",
              "       [ 31.66],\n",
              "       [ 33.17],\n",
              "       [ 34.67],\n",
              "       [ 36.18],\n",
              "       [ 37.69],\n",
              "       [ 39.2 ],\n",
              "       [ 40.7 ],\n",
              "       [ 42.21],\n",
              "       [ 43.72],\n",
              "       [ 45.23],\n",
              "       [ 46.73],\n",
              "       [ 48.24],\n",
              "       [ 49.75],\n",
              "       [ 51.26],\n",
              "       [ 52.76],\n",
              "       [ 54.27],\n",
              "       [ 55.78],\n",
              "       [ 57.29],\n",
              "       [ 58.79],\n",
              "       [ 60.3 ],\n",
              "       [ 61.81],\n",
              "       [ 63.32],\n",
              "       [ 64.82],\n",
              "       [ 66.33],\n",
              "       [ 67.84],\n",
              "       [ 69.35],\n",
              "       [ 70.85],\n",
              "       [ 72.36],\n",
              "       [ 73.87],\n",
              "       [ 75.38],\n",
              "       [ 76.88],\n",
              "       [ 78.39],\n",
              "       [ 79.9 ],\n",
              "       [ 81.41],\n",
              "       [ 82.91],\n",
              "       [ 84.42],\n",
              "       [ 85.93],\n",
              "       [ 87.44],\n",
              "       [ 88.94],\n",
              "       [ 90.45],\n",
              "       [ 91.96],\n",
              "       [ 93.47],\n",
              "       [ 94.97],\n",
              "       [ 96.48],\n",
              "       [ 97.99],\n",
              "       [ 99.5 ],\n",
              "       [101.01],\n",
              "       [102.51],\n",
              "       [104.02],\n",
              "       [105.53],\n",
              "       [107.04],\n",
              "       [108.54],\n",
              "       [110.05],\n",
              "       [111.56],\n",
              "       [113.07],\n",
              "       [114.57],\n",
              "       [116.08],\n",
              "       [117.59],\n",
              "       [119.1 ],\n",
              "       [120.6 ],\n",
              "       [122.11],\n",
              "       [123.62],\n",
              "       [125.13],\n",
              "       [126.63],\n",
              "       [128.14],\n",
              "       [129.65],\n",
              "       [131.16],\n",
              "       [132.66],\n",
              "       [134.17],\n",
              "       [135.68],\n",
              "       [137.19],\n",
              "       [138.69],\n",
              "       [140.2 ],\n",
              "       [141.71],\n",
              "       [143.22],\n",
              "       [144.72],\n",
              "       [146.23],\n",
              "       [147.74],\n",
              "       [149.25],\n",
              "       [150.75],\n",
              "       [152.26],\n",
              "       [153.77],\n",
              "       [155.28],\n",
              "       [156.78],\n",
              "       [158.29],\n",
              "       [159.8 ],\n",
              "       [161.31],\n",
              "       [162.81],\n",
              "       [164.32],\n",
              "       [165.83],\n",
              "       [167.34],\n",
              "       [168.84],\n",
              "       [170.35],\n",
              "       [171.86],\n",
              "       [173.37],\n",
              "       [174.87],\n",
              "       [176.38],\n",
              "       [177.89],\n",
              "       [179.4 ],\n",
              "       [180.9 ],\n",
              "       [182.41],\n",
              "       [183.92],\n",
              "       [185.43],\n",
              "       [186.93],\n",
              "       [188.44],\n",
              "       [189.95],\n",
              "       [191.46],\n",
              "       [192.96],\n",
              "       [194.47],\n",
              "       [195.98],\n",
              "       [197.49],\n",
              "       [198.99],\n",
              "       [200.5 ],\n",
              "       [202.01],\n",
              "       [203.52],\n",
              "       [205.03],\n",
              "       [206.53],\n",
              "       [208.04],\n",
              "       [209.55],\n",
              "       [211.06],\n",
              "       [212.56],\n",
              "       [214.07],\n",
              "       [215.58],\n",
              "       [217.09],\n",
              "       [218.59],\n",
              "       [220.1 ],\n",
              "       [221.61],\n",
              "       [223.12],\n",
              "       [224.62],\n",
              "       [226.13],\n",
              "       [227.64],\n",
              "       [229.15],\n",
              "       [230.65],\n",
              "       [232.16],\n",
              "       [233.67],\n",
              "       [235.18],\n",
              "       [236.68],\n",
              "       [238.19],\n",
              "       [239.7 ],\n",
              "       [241.21],\n",
              "       [242.71],\n",
              "       [244.22],\n",
              "       [245.73],\n",
              "       [247.24],\n",
              "       [248.74],\n",
              "       [250.25],\n",
              "       [251.76],\n",
              "       [253.27],\n",
              "       [254.77],\n",
              "       [256.28],\n",
              "       [257.79],\n",
              "       [259.3 ],\n",
              "       [260.8 ],\n",
              "       [262.31],\n",
              "       [263.82],\n",
              "       [265.33],\n",
              "       [266.83],\n",
              "       [268.34],\n",
              "       [269.85],\n",
              "       [271.36],\n",
              "       [272.86],\n",
              "       [274.37],\n",
              "       [275.88],\n",
              "       [277.39],\n",
              "       [278.89],\n",
              "       [280.4 ],\n",
              "       [281.91],\n",
              "       [283.42],\n",
              "       [284.92],\n",
              "       [286.43],\n",
              "       [287.94],\n",
              "       [289.45],\n",
              "       [290.95],\n",
              "       [292.46],\n",
              "       [293.97],\n",
              "       [295.48],\n",
              "       [296.98],\n",
              "       [298.49],\n",
              "       [300.  ]])"
            ]
          },
          "metadata": {},
          "execution_count": 19
        }
      ]
    },
    {
      "cell_type": "code",
      "source": [
        "from sklearn.model_selection import train_test_split\n",
        "\n",
        "X_train, X_test, y_train, y_test = train_test_split(X, y, test_size=0.2, random_state=42)\n"
      ],
      "metadata": {
        "id": "lyBFLxtLzedR"
      },
      "execution_count": 20,
      "outputs": []
    },
    {
      "cell_type": "markdown",
      "source": [
        "### Creating the Linear Regression Model:"
      ],
      "metadata": {
        "id": "QVBQCxCfzhJ0"
      }
    },
    {
      "cell_type": "code",
      "source": [
        "from sklearn.linear_model import LinearRegression\n",
        "\n",
        "regressor = LinearRegression()\n",
        "regressor.fit(X_train, y_train)"
      ],
      "metadata": {
        "colab": {
          "base_uri": "https://localhost:8080/",
          "height": 74
        },
        "id": "iSiwC-wL3PgK",
        "outputId": "74f704ce-e08a-4e2f-e280-1f41dbd0c4d2"
      },
      "execution_count": 21,
      "outputs": [
        {
          "output_type": "execute_result",
          "data": {
            "text/plain": [
              "LinearRegression()"
            ],
            "text/html": [
              "<style>#sk-container-id-1 {color: black;background-color: white;}#sk-container-id-1 pre{padding: 0;}#sk-container-id-1 div.sk-toggleable {background-color: white;}#sk-container-id-1 label.sk-toggleable__label {cursor: pointer;display: block;width: 100%;margin-bottom: 0;padding: 0.3em;box-sizing: border-box;text-align: center;}#sk-container-id-1 label.sk-toggleable__label-arrow:before {content: \"▸\";float: left;margin-right: 0.25em;color: #696969;}#sk-container-id-1 label.sk-toggleable__label-arrow:hover:before {color: black;}#sk-container-id-1 div.sk-estimator:hover label.sk-toggleable__label-arrow:before {color: black;}#sk-container-id-1 div.sk-toggleable__content {max-height: 0;max-width: 0;overflow: hidden;text-align: left;background-color: #f0f8ff;}#sk-container-id-1 div.sk-toggleable__content pre {margin: 0.2em;color: black;border-radius: 0.25em;background-color: #f0f8ff;}#sk-container-id-1 input.sk-toggleable__control:checked~div.sk-toggleable__content {max-height: 200px;max-width: 100%;overflow: auto;}#sk-container-id-1 input.sk-toggleable__control:checked~label.sk-toggleable__label-arrow:before {content: \"▾\";}#sk-container-id-1 div.sk-estimator input.sk-toggleable__control:checked~label.sk-toggleable__label {background-color: #d4ebff;}#sk-container-id-1 div.sk-label input.sk-toggleable__control:checked~label.sk-toggleable__label {background-color: #d4ebff;}#sk-container-id-1 input.sk-hidden--visually {border: 0;clip: rect(1px 1px 1px 1px);clip: rect(1px, 1px, 1px, 1px);height: 1px;margin: -1px;overflow: hidden;padding: 0;position: absolute;width: 1px;}#sk-container-id-1 div.sk-estimator {font-family: monospace;background-color: #f0f8ff;border: 1px dotted black;border-radius: 0.25em;box-sizing: border-box;margin-bottom: 0.5em;}#sk-container-id-1 div.sk-estimator:hover {background-color: #d4ebff;}#sk-container-id-1 div.sk-parallel-item::after {content: \"\";width: 100%;border-bottom: 1px solid gray;flex-grow: 1;}#sk-container-id-1 div.sk-label:hover label.sk-toggleable__label {background-color: #d4ebff;}#sk-container-id-1 div.sk-serial::before {content: \"\";position: absolute;border-left: 1px solid gray;box-sizing: border-box;top: 0;bottom: 0;left: 50%;z-index: 0;}#sk-container-id-1 div.sk-serial {display: flex;flex-direction: column;align-items: center;background-color: white;padding-right: 0.2em;padding-left: 0.2em;position: relative;}#sk-container-id-1 div.sk-item {position: relative;z-index: 1;}#sk-container-id-1 div.sk-parallel {display: flex;align-items: stretch;justify-content: center;background-color: white;position: relative;}#sk-container-id-1 div.sk-item::before, #sk-container-id-1 div.sk-parallel-item::before {content: \"\";position: absolute;border-left: 1px solid gray;box-sizing: border-box;top: 0;bottom: 0;left: 50%;z-index: -1;}#sk-container-id-1 div.sk-parallel-item {display: flex;flex-direction: column;z-index: 1;position: relative;background-color: white;}#sk-container-id-1 div.sk-parallel-item:first-child::after {align-self: flex-end;width: 50%;}#sk-container-id-1 div.sk-parallel-item:last-child::after {align-self: flex-start;width: 50%;}#sk-container-id-1 div.sk-parallel-item:only-child::after {width: 0;}#sk-container-id-1 div.sk-dashed-wrapped {border: 1px dashed gray;margin: 0 0.4em 0.5em 0.4em;box-sizing: border-box;padding-bottom: 0.4em;background-color: white;}#sk-container-id-1 div.sk-label label {font-family: monospace;font-weight: bold;display: inline-block;line-height: 1.2em;}#sk-container-id-1 div.sk-label-container {text-align: center;}#sk-container-id-1 div.sk-container {/* jupyter's `normalize.less` sets `[hidden] { display: none; }` but bootstrap.min.css set `[hidden] { display: none !important; }` so we also need the `!important` here to be able to override the default hidden behavior on the sphinx rendered scikit-learn.org. See: https://github.com/scikit-learn/scikit-learn/issues/21755 */display: inline-block !important;position: relative;}#sk-container-id-1 div.sk-text-repr-fallback {display: none;}</style><div id=\"sk-container-id-1\" class=\"sk-top-container\"><div class=\"sk-text-repr-fallback\"><pre>LinearRegression()</pre><b>In a Jupyter environment, please rerun this cell to show the HTML representation or trust the notebook. <br />On GitHub, the HTML representation is unable to render, please try loading this page with nbviewer.org.</b></div><div class=\"sk-container\" hidden><div class=\"sk-item\"><div class=\"sk-estimator sk-toggleable\"><input class=\"sk-toggleable__control sk-hidden--visually\" id=\"sk-estimator-id-1\" type=\"checkbox\" checked><label for=\"sk-estimator-id-1\" class=\"sk-toggleable__label sk-toggleable__label-arrow\">LinearRegression</label><div class=\"sk-toggleable__content\"><pre>LinearRegression()</pre></div></div></div></div></div>"
            ]
          },
          "metadata": {},
          "execution_count": 21
        }
      ]
    },
    {
      "cell_type": "markdown",
      "source": [
        "### Prediction and Evaluation"
      ],
      "metadata": {
        "id": "a04vwNbu5rWg"
      }
    },
    {
      "cell_type": "code",
      "source": [
        "from sklearn.metrics import mean_squared_error\n",
        "\n",
        "y_pred = regressor.predict(X_test)\n",
        "mse = mean_squared_error(y_test, y_pred)\n",
        "mse"
      ],
      "metadata": {
        "colab": {
          "base_uri": "https://localhost:8080/"
        },
        "id": "9thjcHWt5uID",
        "outputId": "21ac4ab8-bc97-42d8-f0a9-91c7d5753fe1"
      },
      "execution_count": 27,
      "outputs": [
        {
          "output_type": "execute_result",
          "data": {
            "text/plain": [
              "10.120936065540118"
            ]
          },
          "metadata": {},
          "execution_count": 27
        }
      ]
    },
    {
      "cell_type": "markdown",
      "source": [
        "### Visualizing Data and Prediction"
      ],
      "metadata": {
        "id": "BsHCkPMu8RRc"
      }
    },
    {
      "cell_type": "code",
      "source": [
        "import matplotlib.pyplot as plt\n",
        "\n",
        "# scatter plot of the dataset\n",
        "plt.scatter(X_test, y_test, color='blue', label='Actual Data')\n",
        "\n",
        "# plot the linear regression line\n",
        "plt.plot(X_test, y_pred, color='red', label='Prediction')\n",
        "\n",
        "plt.xlabel('Power (MW)')\n",
        "plt.ylabel('Shrinkage Precentage (%)')\n",
        "\n",
        "plt.legend()\n",
        "plt.show()"
      ],
      "metadata": {
        "colab": {
          "base_uri": "https://localhost:8080/",
          "height": 449
        },
        "id": "7QmurmJB8omc",
        "outputId": "bdf541af-16e6-49d8-948c-b0a05dd51b3d"
      },
      "execution_count": 30,
      "outputs": [
        {
          "output_type": "display_data",
          "data": {
            "text/plain": [
              "<Figure size 640x480 with 1 Axes>"
            ],
            "image/png": "[encoded data removed]"
          },
          "metadata": {}
        }
      ]
    },
    {
      "cell_type": "markdown",
      "source": [
        "## To find Power at 85 % Shrinkage:"
      ],
      "metadata": {
        "id": "IZqH31l5AEaY"
      }
    },
    {
      "cell_type": "code",
      "source": [
        "intercept = regressor.intercept_\n",
        "coefficient = regressor.coef_\n",
        "\n",
        "required_X = (85 - intercept) / coefficient\n",
        "print(\"Required Power is {}\".format(float(required_X)))"
      ],
      "metadata": {
        "colab": {
          "base_uri": "https://localhost:8080/"
        },
        "id": "NkYaKSSsANP5",
        "outputId": "83302e04-29f8-44f2-f51c-a2e6c4223e3d"
      },
      "execution_count": 33,
      "outputs": [
        {
          "output_type": "stream",
          "name": "stdout",
          "text": [
            "Required Power is 272.85478519391734\n"
          ]
        }
      ]
    },
    {
      "cell_type": "markdown",
      "source": [],
      "metadata": {
        "id": "ClP2cYHDzeEB"
      }
    }
  ]
}